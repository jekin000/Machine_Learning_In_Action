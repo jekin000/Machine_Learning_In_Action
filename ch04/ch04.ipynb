{
 "cells": [
  {
   "cell_type": "markdown",
   "metadata": {},
   "source": [
    "SPAM detected\n",
    "========\n",
    "There are 50 mails sample, 25 spams, 25 hums.\n",
    "we get 40 for trainning and 10 for testing by random.\n",
    "\n",
    "**Notice**\n",
    "* My first try is not expected with the book's sample code because use the wrong label. I use the trainLabel as the testLabel.\n",
    "* In the book's sample, they make the DataSet with [1,0,1,0,1,...] and select random items from it. But in my practice, I use [1,1,1,1...,0,0,0,..]. The result is similar.\n",
    "* In the book's sample, they use bag2Vec. We use set2Vec. For this testSet, it seems set2Vec get the better performance.\n"
   ]
  },
  {
   "cell_type": "code",
   "execution_count": null,
   "metadata": {
    "collapsed": true
   },
   "outputs": [],
   "source": [
    "import bayes\n",
    "bayes.spamTestMany()"
   ]
  },
  {
   "cell_type": "markdown",
   "metadata": {},
   "source": [
    "My SPAM\n",
    "========\n",
    "I provide a spam and ham mail to check the predict, but it classify the wrong result."
   ]
  },
  {
   "cell_type": "code",
   "execution_count": 6,
   "metadata": {},
   "outputs": [
    {
     "data": {
      "text/plain": [
       "0"
      ]
     },
     "execution_count": 6,
     "metadata": {},
     "output_type": "execute_result"
    }
   ],
   "source": [
    "reload(bayes)\n",
    "bayes.spamTest()\n",
    "bayes.predictSpam('myspam.txt')"
   ]
  },
  {
   "cell_type": "code",
   "execution_count": 8,
   "metadata": {},
   "outputs": [
    {
     "data": {
      "text/plain": [
       "0"
      ]
     },
     "execution_count": 8,
     "metadata": {},
     "output_type": "execute_result"
    }
   ],
   "source": [
    "bayes.predictSpam('myham.txt')"
   ]
  },
  {
   "cell_type": "markdown",
   "metadata": {},
   "source": [
    "To check the reason, I add three feature:\n",
    "1. check p0,p1's value in classify;\n",
    "2. check how many word in predict email in the global vocab list;\n",
    "3. add a debugLevel"
   ]
  },
  {
   "cell_type": "code",
   "execution_count": 9,
   "metadata": {},
   "outputs": [
    {
     "data": {
      "text/plain": [
       "{'debugLevel': False}"
      ]
     },
     "execution_count": 9,
     "metadata": {},
     "output_type": "execute_result"
    }
   ],
   "source": [
    "bayes.getConfig()"
   ]
  },
  {
   "cell_type": "code",
   "execution_count": 10,
   "metadata": {},
   "outputs": [
    {
     "data": {
      "text/plain": [
       "['p0Vect', 'vocabList', 'p1Vect', 'pAbusive']"
      ]
     },
     "execution_count": 10,
     "metadata": {},
     "output_type": "execute_result"
    }
   ],
   "source": [
    "parm = bayes.getSpamTrainningParm()\n",
    "parm.keys()"
   ]
  },
  {
   "cell_type": "code",
   "execution_count": 11,
   "metadata": {},
   "outputs": [
    {
     "data": {
      "text/plain": [
       "0.5"
      ]
     },
     "execution_count": 11,
     "metadata": {},
     "output_type": "execute_result"
    }
   ],
   "source": [
    "parm['pAbusive']"
   ]
  },
  {
   "cell_type": "code",
   "execution_count": 12,
   "metadata": {},
   "outputs": [
    {
     "data": {
      "text/plain": [
       "{'debugLevel': True}"
      ]
     },
     "execution_count": 12,
     "metadata": {},
     "output_type": "execute_result"
    }
   ],
   "source": [
    "bayes.setConfigDebugLevelEnable()\n",
    "bayes.getConfig()"
   ]
  },
  {
   "cell_type": "code",
   "execution_count": 13,
   "metadata": {},
   "outputs": [
    {
     "data": {
      "text/plain": [
       "0.4444444444444444"
      ]
     },
     "execution_count": 13,
     "metadata": {},
     "output_type": "execute_result"
    }
   ],
   "source": [
    "bayes.checkMailVocab('myspam.txt')"
   ]
  },
  {
   "cell_type": "code",
   "execution_count": 14,
   "metadata": {},
   "outputs": [
    {
     "data": {
      "text/plain": [
       "0.4883720930232558"
      ]
     },
     "execution_count": 14,
     "metadata": {},
     "output_type": "execute_result"
    }
   ],
   "source": [
    "bayes.checkMailVocab('myham.txt')"
   ]
  },
  {
   "cell_type": "code",
   "execution_count": 15,
   "metadata": {},
   "outputs": [
    {
     "name": "stdout",
     "output_type": "stream",
     "text": [
      "p1=-209.185276679;p0=-194.492599709\n"
     ]
    },
    {
     "data": {
      "text/plain": [
       "0"
      ]
     },
     "execution_count": 15,
     "metadata": {},
     "output_type": "execute_result"
    }
   ],
   "source": [
    "bayes.predictSpam('myspam.txt')"
   ]
  },
  {
   "cell_type": "code",
   "execution_count": 16,
   "metadata": {},
   "outputs": [
    {
     "name": "stdout",
     "output_type": "stream",
     "text": [
      "p1=-73.7128468982;p0=-66.5547214186\n"
     ]
    },
    {
     "data": {
      "text/plain": [
       "0"
      ]
     },
     "execution_count": 16,
     "metadata": {},
     "output_type": "execute_result"
    }
   ],
   "source": [
    "bayes.predictSpam('myham.txt')"
   ]
  },
  {
   "cell_type": "code",
   "execution_count": 17,
   "metadata": {
    "collapsed": true
   },
   "outputs": [],
   "source": [
    "bayes.setConfigDebugLevelDisable()"
   ]
  },
  {
   "cell_type": "code",
   "execution_count": null,
   "metadata": {
    "collapsed": true
   },
   "outputs": [],
   "source": []
  },
  {
   "cell_type": "markdown",
   "metadata": {},
   "source": [
    "My Feed\n",
    "=======\n",
    "There is an example to use feedparser to parse the data.Also give the html parse."
   ]
  },
  {
   "cell_type": "code",
   "execution_count": 1,
   "metadata": {},
   "outputs": [
    {
     "name": "stdout",
     "output_type": "stream",
     "text": [
      "/p >> 日报标题：「儿子你看，这就是爸爸的青春、热情和梦想」\n",
      "/div/div/div/span >> Langelic，\n",
      "/div/div/div/span >> 创业中. www.ceelo.cn\n",
      "/div/div/div/p >> 我第一次现场观看 TI 是在 2012 年的 TI2，之后每年都去，一直到 TI\n",
      "/div/div/div/p >> 这篇回答非常具有主观色彩，完全是我个人视角的 TI 观战体验，如果有更多的问题欢\n",
      "/div/div/div/p >> TI1 虽然没有到现场去，但是后来听同事说过，TI1 的现场因为在别人的地盘且是\n",
      "/div/div/div/p >> TI2 回到了 Valve 的总部所在地西雅图，各方面水平一下子就上去了，但是由\n",
      "/div/div/div/p >> TI2 的中国选手们也是青涩的，不像现在一个个老司机。当时都还不熟悉西雅图和贝尔\n",
      "/div/div/div/p >> 后来他们找我抱怨以后，后面的比赛才有了 afterparty，才有了赛后 Val\n",
      "/div/div/div/p >> 总的来说，TI2 是 Valve 第一次自己办这么大规模的比赛，虽有欠缺，但是在\n",
      "/div/div/div/p >> TI3 相比之前一届改变不是很大，换了小组赛的场地，改到了选手们入住的威斯汀酒店\n",
      "/div/div/div/p >> TI3 中国的队伍成绩非常惨淡，但是客观来说比赛着实非常精彩，Na'Vi 充满争\n",
      "/div/div/div/p >> TI4 应该是除了 TI2 以外我印象最深刻的一届 TI 了吧，当时场馆换到了钥\n",
      "/div/div/div/p >> TI4 因为场馆配套很完备，所以很多方面 Valve 都可以放开来了，不管是人力\n",
      "/div/div/div/p >> 对我个人来说，提到 TI4 就不得不提到 DK，还记得当时我和朋友坐在 VG 的\n",
      "/div/div/div/p >> 总的来说，TI4 是 TI 系列真正开始腾飞的一届，不仅在奖金上开启了破纪录之旅\n",
      "/div/div/div/p >> TI5 和 TI6 都和 TI4 差不多，创意和内容上有了新的东西，但体验方面大\n",
      "/div/div/div/p >> 总结一句，对一个热血 DOTA 青年而言，到现场观战 TI，完全够格成为你\n",
      "/div/div/div/p >> 这辈子一定要做的事情\n",
      "/div/div/div/p >> 之一。\n",
      "/div/div/div/p >> 最后放几张照片：\n",
      "/div/div/div/p >> TI2 展出的的 Na'Vi 上届 TI 冠军戒指\n",
      "/div/div/div/p >> TI2 现场\n",
      "/div/div/div/p >> TI3 上看到的 iG 的冠军戒指和当年的冠军盾\n",
      "/div/div/div/p >> TI4 上粉丝打出的横幅，我看到一瞬间眼睛就湿了\n",
      "/div/div/div/p >> TI5 EHOME 淘汰了 Secret 以后接受采访的 71，当时记者的第一个\n",
      "/div/div/div/p >> TI6，带着我儿子看他爸爸的青春，热情和梦想。\n",
      "/div/div/a >> 阅读原文\n",
      "/div/div/div/p >> 更多讨论，查看\n",
      "/div/div/div/p >> 知乎圆桌\n",
      "/div/div/div/p/a >> 电竞风云\n",
      "/div/div/div/p/a >> 决战肉山\n"
     ]
    }
   ],
   "source": [
    "import myfeed\n",
    "myfeed.printZhFeed('http://feeds.feedburner.com/zhihu-daily')"
   ]
  },
  {
   "cell_type": "code",
   "execution_count": null,
   "metadata": {
    "collapsed": true
   },
   "outputs": [],
   "source": []
  }
 ],
 "metadata": {
  "kernelspec": {
   "display_name": "Python 2",
   "language": "python",
   "name": "python2"
  },
  "language_info": {
   "codemirror_mode": {
    "name": "ipython",
    "version": 2
   },
   "file_extension": ".py",
   "mimetype": "text/x-python",
   "name": "python",
   "nbconvert_exporter": "python",
   "pygments_lexer": "ipython2",
   "version": "2.7.12"
  }
 },
 "nbformat": 4,
 "nbformat_minor": 2
}
