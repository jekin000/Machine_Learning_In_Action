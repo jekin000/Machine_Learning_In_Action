{
 "cells": [
  {
   "cell_type": "markdown",
   "metadata": {},
   "source": [
    "SPAM detected\n",
    "========\n",
    "There are 50 mails sample, 25 spams, 25 hums.\n",
    "we get 40 for trainning and 10 for testing by random.\n",
    "\n",
    "**Notice**\n",
    "* My first try is not expected with the book's sample code because use the wrong label. I use the trainLabel as the testLabel.\n",
    "* In the book's sample, they make the DataSet with [1,0,1,0,1,...] and select random items from it. But in my practice, I use [1,1,1,1...,0,0,0,..]. The result is similar.\n",
    "* In the book's sample, they use bag2Vec. We use set2Vec. For this testSet, it seems set2Vec get the better performance.\n"
   ]
  },
  {
   "cell_type": "code",
   "execution_count": null,
   "metadata": {
    "collapsed": true
   },
   "outputs": [],
   "source": [
    "import bayes\n",
    "bayes.spamTestMany()"
   ]
  },
  {
   "cell_type": "code",
   "execution_count": null,
   "metadata": {
    "collapsed": true
   },
   "outputs": [],
   "source": []
  }
 ],
 "metadata": {
  "kernelspec": {
   "display_name": "Python 2",
   "language": "python",
   "name": "python2"
  },
  "language_info": {
   "codemirror_mode": {
    "name": "ipython",
    "version": 2
   },
   "file_extension": ".py",
   "mimetype": "text/x-python",
   "name": "python",
   "nbconvert_exporter": "python",
   "pygments_lexer": "ipython2",
   "version": "2.7.12"
  }
 },
 "nbformat": 4,
 "nbformat_minor": 2
}
